{
 "cells": [
  {
   "cell_type": "code",
   "execution_count": 3,
   "id": "6ba3a25f-5d62-48f8-ae6b-963ba2318c2d",
   "metadata": {},
   "outputs": [
    {
     "name": "stdout",
     "output_type": "stream",
     "text": [
      "Requirement already satisfied: audio-plot in /home/martinlubowa/.pyenv/versions/3.10.13/lib/python3.10/site-packages (0.0.3)\n",
      "Requirement already satisfied: torchaudio in /home/martinlubowa/.pyenv/versions/3.10.13/lib/python3.10/site-packages (2.1.2)\n",
      "Requirement already satisfied: pydub in /home/martinlubowa/.pyenv/versions/3.10.13/lib/python3.10/site-packages (from audio-plot) (0.25.1)\n",
      "Requirement already satisfied: numpy in /home/martinlubowa/.pyenv/versions/3.10.13/lib/python3.10/site-packages (from audio-plot) (1.26.2)\n",
      "Requirement already satisfied: gTTS in /home/martinlubowa/.pyenv/versions/3.10.13/lib/python3.10/site-packages (from audio-plot) (2.5.0)\n",
      "Requirement already satisfied: torch==2.1.2 in /home/martinlubowa/.pyenv/versions/3.10.13/lib/python3.10/site-packages (from torchaudio) (2.1.2+cpu)\n",
      "Requirement already satisfied: filelock in /home/martinlubowa/.pyenv/versions/3.10.13/lib/python3.10/site-packages (from torch==2.1.2->torchaudio) (3.13.1)\n",
      "Requirement already satisfied: typing-extensions in /home/martinlubowa/.pyenv/versions/3.10.13/lib/python3.10/site-packages (from torch==2.1.2->torchaudio) (4.9.0)\n",
      "Requirement already satisfied: sympy in /home/martinlubowa/.pyenv/versions/3.10.13/lib/python3.10/site-packages (from torch==2.1.2->torchaudio) (1.12)\n",
      "Requirement already satisfied: networkx in /home/martinlubowa/.pyenv/versions/3.10.13/lib/python3.10/site-packages (from torch==2.1.2->torchaudio) (3.2.1)\n",
      "Requirement already satisfied: jinja2 in /home/martinlubowa/.pyenv/versions/3.10.13/lib/python3.10/site-packages (from torch==2.1.2->torchaudio) (3.1.2)\n",
      "Requirement already satisfied: fsspec in /home/martinlubowa/.pyenv/versions/3.10.13/lib/python3.10/site-packages (from torch==2.1.2->torchaudio) (2023.12.2)\n",
      "Requirement already satisfied: requests<3,>=2.27 in /home/martinlubowa/.pyenv/versions/3.10.13/lib/python3.10/site-packages (from gTTS->audio-plot) (2.31.0)\n",
      "Requirement already satisfied: click<8.2,>=7.1 in /home/martinlubowa/.pyenv/versions/3.10.13/lib/python3.10/site-packages (from gTTS->audio-plot) (8.1.7)\n",
      "Requirement already satisfied: charset-normalizer<4,>=2 in /home/martinlubowa/.pyenv/versions/3.10.13/lib/python3.10/site-packages (from requests<3,>=2.27->gTTS->audio-plot) (3.3.2)\n",
      "Requirement already satisfied: idna<4,>=2.5 in /home/martinlubowa/.pyenv/versions/3.10.13/lib/python3.10/site-packages (from requests<3,>=2.27->gTTS->audio-plot) (3.6)\n",
      "Requirement already satisfied: urllib3<3,>=1.21.1 in /home/martinlubowa/.pyenv/versions/3.10.13/lib/python3.10/site-packages (from requests<3,>=2.27->gTTS->audio-plot) (2.1.0)\n",
      "Requirement already satisfied: certifi>=2017.4.17 in /home/martinlubowa/.pyenv/versions/3.10.13/lib/python3.10/site-packages (from requests<3,>=2.27->gTTS->audio-plot) (2023.11.17)\n",
      "Requirement already satisfied: MarkupSafe>=2.0 in /home/martinlubowa/.pyenv/versions/3.10.13/lib/python3.10/site-packages (from jinja2->torch==2.1.2->torchaudio) (2.1.3)\n",
      "Requirement already satisfied: mpmath>=0.19 in /home/martinlubowa/.pyenv/versions/3.10.13/lib/python3.10/site-packages (from sympy->torch==2.1.2->torchaudio) (1.3.0)\n"
     ]
    },
    {
     "ename": "OSError",
     "evalue": "libtorch_cuda.so: cannot open shared object file: No such file or directory",
     "output_type": "error",
     "traceback": [
      "\u001b[0;31m---------------------------------------------------------------------------\u001b[0m",
      "\u001b[0;31mOSError\u001b[0m                                   Traceback (most recent call last)",
      "Cell \u001b[0;32mIn[3], line 2\u001b[0m\n\u001b[1;32m      1\u001b[0m get_ipython()\u001b[38;5;241m.\u001b[39msystem(\u001b[38;5;124m'\u001b[39m\u001b[38;5;124mpip install audio-plot torchaudio\u001b[39m\u001b[38;5;124m'\u001b[39m)\n\u001b[0;32m----> 2\u001b[0m \u001b[38;5;28;01mimport\u001b[39;00m \u001b[38;5;21;01mtorchaudio\u001b[39;00m\n\u001b[1;32m      3\u001b[0m \u001b[38;5;28;01mfrom\u001b[39;00m \u001b[38;5;21;01mplot_audio\u001b[39;00m \u001b[38;5;28;01mimport\u001b[39;00m plot_specgram, plot_waveform\n\u001b[1;32m      4\u001b[0m \u001b[38;5;28;01mimport\u001b[39;00m \u001b[38;5;21;01mseaborn\u001b[39;00m \u001b[38;5;28;01mas\u001b[39;00m \u001b[38;5;21;01msns\u001b[39;00m   \n",
      "File \u001b[0;32m~/.pyenv/versions/3.10.13/lib/python3.10/site-packages/torchaudio/__init__.py:1\u001b[0m\n\u001b[0;32m----> 1\u001b[0m \u001b[38;5;28;01mfrom\u001b[39;00m \u001b[38;5;21;01m.\u001b[39;00m \u001b[38;5;28;01mimport\u001b[39;00m (  \u001b[38;5;66;03m# noqa: F401\u001b[39;00m\n\u001b[1;32m      2\u001b[0m     _extension,\n\u001b[1;32m      3\u001b[0m     compliance,\n\u001b[1;32m      4\u001b[0m     datasets,\n\u001b[1;32m      5\u001b[0m     functional,\n\u001b[1;32m      6\u001b[0m     io,\n\u001b[1;32m      7\u001b[0m     kaldi_io,\n\u001b[1;32m      8\u001b[0m     models,\n\u001b[1;32m      9\u001b[0m     pipelines,\n\u001b[1;32m     10\u001b[0m     sox_effects,\n\u001b[1;32m     11\u001b[0m     transforms,\n\u001b[1;32m     12\u001b[0m     utils,\n\u001b[1;32m     13\u001b[0m )\n\u001b[1;32m     14\u001b[0m \u001b[38;5;28;01mfrom\u001b[39;00m \u001b[38;5;21;01m.\u001b[39;00m\u001b[38;5;21;01m_backend\u001b[39;00m\u001b[38;5;21;01m.\u001b[39;00m\u001b[38;5;21;01mcommon\u001b[39;00m \u001b[38;5;28;01mimport\u001b[39;00m AudioMetaData  \u001b[38;5;66;03m# noqa\u001b[39;00m\n\u001b[1;32m     16\u001b[0m \u001b[38;5;28;01mtry\u001b[39;00m:\n",
      "File \u001b[0;32m~/.pyenv/versions/3.10.13/lib/python3.10/site-packages/torchaudio/_extension/__init__.py:45\u001b[0m\n\u001b[1;32m     43\u001b[0m _IS_ALIGN_AVAILABLE \u001b[38;5;241m=\u001b[39m \u001b[38;5;28;01mFalse\u001b[39;00m\n\u001b[1;32m     44\u001b[0m \u001b[38;5;28;01mif\u001b[39;00m _IS_TORCHAUDIO_EXT_AVAILABLE:\n\u001b[0;32m---> 45\u001b[0m     \u001b[43m_load_lib\u001b[49m\u001b[43m(\u001b[49m\u001b[38;5;124;43m\"\u001b[39;49m\u001b[38;5;124;43mlibtorchaudio\u001b[39;49m\u001b[38;5;124;43m\"\u001b[39;49m\u001b[43m)\u001b[49m\n\u001b[1;32m     47\u001b[0m     \u001b[38;5;28;01mimport\u001b[39;00m \u001b[38;5;21;01mtorchaudio\u001b[39;00m\u001b[38;5;21;01m.\u001b[39;00m\u001b[38;5;21;01mlib\u001b[39;00m\u001b[38;5;21;01m.\u001b[39;00m\u001b[38;5;21;01m_torchaudio\u001b[39;00m  \u001b[38;5;66;03m# noqa\u001b[39;00m\n\u001b[1;32m     49\u001b[0m     _check_cuda_version()\n",
      "File \u001b[0;32m~/.pyenv/versions/3.10.13/lib/python3.10/site-packages/torchaudio/_extension/utils.py:64\u001b[0m, in \u001b[0;36m_load_lib\u001b[0;34m(lib)\u001b[0m\n\u001b[1;32m     62\u001b[0m \u001b[38;5;28;01mif\u001b[39;00m \u001b[38;5;129;01mnot\u001b[39;00m path\u001b[38;5;241m.\u001b[39mexists():\n\u001b[1;32m     63\u001b[0m     \u001b[38;5;28;01mreturn\u001b[39;00m \u001b[38;5;28;01mFalse\u001b[39;00m\n\u001b[0;32m---> 64\u001b[0m \u001b[43mtorch\u001b[49m\u001b[38;5;241;43m.\u001b[39;49m\u001b[43mops\u001b[49m\u001b[38;5;241;43m.\u001b[39;49m\u001b[43mload_library\u001b[49m\u001b[43m(\u001b[49m\u001b[43mpath\u001b[49m\u001b[43m)\u001b[49m\n\u001b[1;32m     65\u001b[0m torch\u001b[38;5;241m.\u001b[39mclasses\u001b[38;5;241m.\u001b[39mload_library(path)\n\u001b[1;32m     66\u001b[0m \u001b[38;5;28;01mreturn\u001b[39;00m \u001b[38;5;28;01mTrue\u001b[39;00m\n",
      "File \u001b[0;32m~/.pyenv/versions/3.10.13/lib/python3.10/site-packages/torch/_ops.py:852\u001b[0m, in \u001b[0;36m_Ops.load_library\u001b[0;34m(self, path)\u001b[0m\n\u001b[1;32m    847\u001b[0m path \u001b[38;5;241m=\u001b[39m _utils_internal\u001b[38;5;241m.\u001b[39mresolve_library_path(path)\n\u001b[1;32m    848\u001b[0m \u001b[38;5;28;01mwith\u001b[39;00m dl_open_guard():\n\u001b[1;32m    849\u001b[0m     \u001b[38;5;66;03m# Import the shared library into the process, thus running its\u001b[39;00m\n\u001b[1;32m    850\u001b[0m     \u001b[38;5;66;03m# static (global) initialization code in order to register custom\u001b[39;00m\n\u001b[1;32m    851\u001b[0m     \u001b[38;5;66;03m# operators with the JIT.\u001b[39;00m\n\u001b[0;32m--> 852\u001b[0m     \u001b[43mctypes\u001b[49m\u001b[38;5;241;43m.\u001b[39;49m\u001b[43mCDLL\u001b[49m\u001b[43m(\u001b[49m\u001b[43mpath\u001b[49m\u001b[43m)\u001b[49m\n\u001b[1;32m    853\u001b[0m \u001b[38;5;28mself\u001b[39m\u001b[38;5;241m.\u001b[39mloaded_libraries\u001b[38;5;241m.\u001b[39madd(path)\n",
      "File \u001b[0;32m~/.pyenv/versions/3.10.13/lib/python3.10/ctypes/__init__.py:374\u001b[0m, in \u001b[0;36mCDLL.__init__\u001b[0;34m(self, name, mode, handle, use_errno, use_last_error, winmode)\u001b[0m\n\u001b[1;32m    371\u001b[0m \u001b[38;5;28mself\u001b[39m\u001b[38;5;241m.\u001b[39m_FuncPtr \u001b[38;5;241m=\u001b[39m _FuncPtr\n\u001b[1;32m    373\u001b[0m \u001b[38;5;28;01mif\u001b[39;00m handle \u001b[38;5;129;01mis\u001b[39;00m \u001b[38;5;28;01mNone\u001b[39;00m:\n\u001b[0;32m--> 374\u001b[0m     \u001b[38;5;28mself\u001b[39m\u001b[38;5;241m.\u001b[39m_handle \u001b[38;5;241m=\u001b[39m \u001b[43m_dlopen\u001b[49m\u001b[43m(\u001b[49m\u001b[38;5;28;43mself\u001b[39;49m\u001b[38;5;241;43m.\u001b[39;49m\u001b[43m_name\u001b[49m\u001b[43m,\u001b[49m\u001b[43m \u001b[49m\u001b[43mmode\u001b[49m\u001b[43m)\u001b[49m\n\u001b[1;32m    375\u001b[0m \u001b[38;5;28;01melse\u001b[39;00m:\n\u001b[1;32m    376\u001b[0m     \u001b[38;5;28mself\u001b[39m\u001b[38;5;241m.\u001b[39m_handle \u001b[38;5;241m=\u001b[39m handle\n",
      "\u001b[0;31mOSError\u001b[0m: libtorch_cuda.so: cannot open shared object file: No such file or directory"
     ]
    }
   ],
   "source": [
    "!pip install audio-plot torchaudio\n",
    "import torchaudio\n",
    "from plot_audio import plot_specgram, plot_waveform\n",
    "import seaborn as sns   \n",
    "import matplotlib.pyplot as plt"
   ]
  },
  {
   "cell_type": "code",
   "execution_count": null,
   "id": "c3a98992-4f1a-4348-9b5f-93f9904557f1",
   "metadata": {},
   "outputs": [],
   "source": []
  }
 ],
 "metadata": {
  "kernelspec": {
   "display_name": "aisciences",
   "language": "python",
   "name": "aisciences"
  },
  "language_info": {
   "codemirror_mode": {
    "name": "ipython",
    "version": 3
   },
   "file_extension": ".py",
   "mimetype": "text/x-python",
   "name": "python",
   "nbconvert_exporter": "python",
   "pygments_lexer": "ipython3",
   "version": "3.10.13"
  }
 },
 "nbformat": 4,
 "nbformat_minor": 5
}
